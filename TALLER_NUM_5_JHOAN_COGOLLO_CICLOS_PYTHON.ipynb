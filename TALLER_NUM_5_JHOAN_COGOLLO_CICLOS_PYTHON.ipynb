{
  "nbformat": 4,
  "nbformat_minor": 0,
  "metadata": {
    "colab": {
      "provenance": [],
      "authorship_tag": "ABX9TyNpErttXCGzJl2EomnWEQRD",
      "include_colab_link": true
    },
    "kernelspec": {
      "name": "python3",
      "display_name": "Python 3"
    },
    "language_info": {
      "name": "python"
    }
  },
  "cells": [
    {
      "cell_type": "markdown",
      "metadata": {
        "id": "view-in-github",
        "colab_type": "text"
      },
      "source": [
        "<a href=\"https://colab.research.google.com/github/JhoanCogollo/TallerNum5-CiclosenPython-Jhoan-Cogollo/blob/main/TALLER_NUM_5_JHOAN_COGOLLO_CICLOS_PYTHON.ipynb\" target=\"_parent\"><img src=\"https://colab.research.google.com/assets/colab-badge.svg\" alt=\"Open In Colab\"/></a>"
      ]
    },
    {
      "cell_type": "markdown",
      "source": [
        "##jorge cabrera - 000503744\n",
        "##jhoan cogollo - 000505395"
      ],
      "metadata": {
        "id": "ovDGL_sYwmeU"
      }
    },
    {
      "cell_type": "markdown",
      "source": [
        "#Ejer-1). Escribe un programa en Python que solicite al usuario un número entero positivo n y luego imprima los primeros n números naturales usando un ciclo while.\n"
      ],
      "metadata": {
        "id": "h8OmsLSFL-Oi"
      }
    },
    {
      "cell_type": "code",
      "execution_count": null,
      "metadata": {
        "colab": {
          "base_uri": "https://localhost:8080/"
        },
        "id": "RpMHomoWLO8m",
        "outputId": "1da5f3f9-a1b4-412f-9cef-014dfadff677"
      },
      "outputs": [
        {
          "output_type": "stream",
          "name": "stdout",
          "text": [
            "Digite un numero entero positivo: 10\n",
            "1\n",
            "2\n",
            "3\n",
            "4\n",
            "5\n",
            "6\n",
            "7\n",
            "8\n",
            "9\n",
            "10\n"
          ]
        }
      ],
      "source": [
        "\n",
        "number = int(input(\"Digite un numero entero positivo: \"))\n",
        "\n",
        "while number <= 0:\n",
        "    print(\"Digitar un numero POSITIVO.\")\n",
        "    number = int(input(\"Digite un numero entero positivo: \"))\n",
        "\n",
        "cont = 1\n",
        "\n",
        "while cont <= number:\n",
        "    print(cont)\n",
        "    cont += 1\n"
      ]
    },
    {
      "cell_type": "markdown",
      "source": [
        "#Ejer-2). Escribe un programa en Python que calcule la suma de todos los números pares del 1 al 100 utlizando un ciclo for."
      ],
      "metadata": {
        "id": "rBdWnrEVOYv5"
      }
    },
    {
      "cell_type": "code",
      "source": [
        "\n",
        "sumTotal = 0\n",
        "\n",
        "for number in range(1, 101):\n",
        "    if number % 2 == 0:\n",
        "        sumTotal += number\n",
        "\n",
        "print(\"La suma de los números pares del 1 al 100 es:\", sumTotal)\n"
      ],
      "metadata": {
        "colab": {
          "base_uri": "https://localhost:8080/"
        },
        "id": "p50bXQ-LOoVq",
        "outputId": "15e4ee9b-68be-445c-8faf-2be27a593a09"
      },
      "execution_count": null,
      "outputs": [
        {
          "output_type": "stream",
          "name": "stdout",
          "text": [
            "La suma de los números pares del 1 al 100 es: 2550\n"
          ]
        }
      ]
    },
    {
      "cell_type": "markdown",
      "source": [
        "#Ejer-3). Escribe un programa en Python que imprima el siguiente patrón utlizando ciclos anidados:\n",
        "#1\n",
        "#12\n",
        "#123\n",
        "#1234\n",
        "#12345\n",
        "#Etc…."
      ],
      "metadata": {
        "id": "TYFbOeSsQU4R"
      }
    },
    {
      "cell_type": "code",
      "source": [
        "# Programa 3\n",
        "number_lines = int(input(\"Digite el nùmero de renglones: \"))\n",
        "\n",
        "for i in range(1, number_lines + 1):\n",
        "    for j in range(1, i + 1):\n",
        "        print(j, end=\"\")\n",
        "    print()\n"
      ],
      "metadata": {
        "colab": {
          "base_uri": "https://localhost:8080/"
        },
        "id": "cCmDgyJRQ_DI",
        "outputId": "2786274a-514b-47b4-d1a4-ff94a8b3adff"
      },
      "execution_count": null,
      "outputs": [
        {
          "output_type": "stream",
          "name": "stdout",
          "text": [
            "Digite el nùmero de renglones: 10\n",
            "1\n",
            "12\n",
            "123\n",
            "1234\n",
            "12345\n",
            "123456\n",
            "1234567\n",
            "12345678\n",
            "123456789\n",
            "12345678910\n"
          ]
        }
      ]
    },
    {
      "cell_type": "markdown",
      "source": [
        "#Ejer-4). Escribe un programa en Python que solicite al usuario un número entero positivo y luego determine si ese número es primo o no utilizando un ciclo while."
      ],
      "metadata": {
        "id": "YYQHPyaBZs8L"
      }
    },
    {
      "cell_type": "code",
      "source": [
        "number = int(input(\"Digite un número entero positivo: \"))\n",
        "es_primo = True\n",
        "i = 2\n",
        "while i < number:\n",
        "\n",
        "    if number % i == 0:\n",
        "        es_primo = False\n",
        "        break\n",
        "    i += 1\n",
        "if es_primo:\n",
        "    print(\"El número digitado es primo.\")\n",
        "else:\n",
        "    print(\"El número digitado no es primo.\")"
      ],
      "metadata": {
        "colab": {
          "base_uri": "https://localhost:8080/"
        },
        "id": "Dc9fqoNjjAPu",
        "outputId": "98d423b7-2ea3-4ed0-b0bc-8b25a5eefeb5"
      },
      "execution_count": null,
      "outputs": [
        {
          "output_type": "stream",
          "name": "stdout",
          "text": [
            "Digite un número entero positivo: 7\n",
            "El número digitado es primo.\n"
          ]
        }
      ]
    },
    {
      "cell_type": "markdown",
      "source": [
        "#Ejer-5). Escribe un programa en Python que incluya un ciclo while que no se detenga hasta que el usuario ingrese \"salir\" como entrada. Dentro del ciclo, permite al usuario realizar operaciones matemáticas simples como suma, resta, multiplicación o división."
      ],
      "metadata": {
        "id": "-Q7iDJbfbkMN"
      }
    },
    {
      "cell_type": "code",
      "source": [
        "\n",
        "while True:\n",
        "\n",
        "    operacion = input(\"¿Que operacion matematica desea realizar? (suma, resta, multiplicación o división): \")\n",
        "\n",
        "    if operacion == \"salir\":\n",
        "        break\n",
        "\n",
        "    num1 = int(input(\"Digite el primer numero a operar: \"))\n",
        "    num2 = int(input(\"Digite el segundo numero a operar: \"))\n",
        "\n",
        "    if operacion == \"suma\":\n",
        "        resultado = num1 + num2\n",
        "    elif operacion == \"resta\":\n",
        "        resultado = num1 - num2\n",
        "    elif operacion == \"multiplicacion\":\n",
        "        resultado = num1 * num2\n",
        "    elif operacion == \"division\":\n",
        "        resultado = num1 / num2\n",
        "\n",
        "    print(\"El resultado de la operacion matematica es:\", resultado)"
      ],
      "metadata": {
        "id": "BTbinXEvbkWV",
        "colab": {
          "base_uri": "https://localhost:8080/"
        },
        "outputId": "8f702c7f-b81b-4872-8635-0682bcc75f46"
      },
      "execution_count": null,
      "outputs": [
        {
          "name": "stdout",
          "output_type": "stream",
          "text": [
            "¿Que operacion matematica desea realizar? (suma, resta, multiplicación o división): suma\n",
            "Digite el primer numero a operar: 1\n",
            "Digite el segundo numero a operar: -1\n",
            "El resultado de la operacion matematica es: 0\n",
            "¿Que operacion matematica desea realizar? (suma, resta, multiplicación o división): salir\n"
          ]
        }
      ]
    },
    {
      "cell_type": "markdown",
      "source": [
        "#Ejer-6). Escribe un programa en Python que imprima los números del 1 al número ingresado por el usuario, en orden descendente utilizando un ciclo for y la función range()."
      ],
      "metadata": {
        "id": "X2FxQL5-n6GP"
      }
    },
    {
      "cell_type": "code",
      "source": [
        "\n",
        "number = int(input(\"Digite un número: \"))\n",
        "\n",
        "for i in range(number, 0, -1):\n",
        "\n",
        "    print(i)"
      ],
      "metadata": {
        "colab": {
          "base_uri": "https://localhost:8080/"
        },
        "id": "gLchr3uMn6Pg",
        "outputId": "90b91313-2699-47b3-ba6e-c7d3dd5eb706"
      },
      "execution_count": null,
      "outputs": [
        {
          "output_type": "stream",
          "name": "stdout",
          "text": [
            "Digite un número: 10\n",
            "10\n",
            "9\n",
            "8\n",
            "7\n",
            "6\n",
            "5\n",
            "4\n",
            "3\n",
            "2\n",
            "1\n"
          ]
        }
      ]
    },
    {
      "cell_type": "markdown",
      "source": [
        "#Ejer-7). Escribe un programa en Python que imprima la secuencia de números de Fibonacci hasta un valor dado n utilizando un ciclo while."
      ],
      "metadata": {
        "id": "CLKB4BWMobAp"
      }
    },
    {
      "cell_type": "code",
      "source": [
        "print(\"n=limite secuencia de Fibonacci\")\n",
        "number = int(input(\"Digite un valor para n: \"))\n",
        "\n",
        "a = 0\n",
        "b = 1\n",
        "\n",
        "while a + b <= number:\n",
        "\n",
        "    print(a + b)\n",
        "\n",
        "    a, b = b, a + b"
      ],
      "metadata": {
        "colab": {
          "base_uri": "https://localhost:8080/"
        },
        "id": "uhtjHRlTobM3",
        "outputId": "4adc1607-edf6-46f2-8619-ff90a0adca6a"
      },
      "execution_count": null,
      "outputs": [
        {
          "output_type": "stream",
          "name": "stdout",
          "text": [
            "n=limite secuencia de Fibonacci\n",
            "Digite un valor para n: 10\n",
            "1\n",
            "2\n",
            "3\n",
            "5\n",
            "8\n"
          ]
        }
      ]
    },
    {
      "cell_type": "markdown",
      "source": [
        "#Ejer-8). Escribe un programa en Python que solicite al usuario un número entero positivo y luego calcule la suma de sus dígitos utilizando un ciclo while."
      ],
      "metadata": {
        "id": "LaUyAMX2o8EA"
      }
    },
    {
      "cell_type": "code",
      "source": [
        "\n",
        "number = int(input(\"Digite un número entero positivo (Sugeriblemente uno de mas de 2 digitos): \"))\n",
        "\n",
        "sum_dig = 0\n",
        "\n",
        "while number > 0:\n",
        "\n",
        "    dig = number % 10\n",
        "\n",
        "    sum_dig += dig\n",
        "\n",
        "    number //= 10\n",
        "\n",
        "print(\"La suma de los dígitos del número es:\", sum_dig)"
      ],
      "metadata": {
        "colab": {
          "base_uri": "https://localhost:8080/"
        },
        "id": "BK2VU_wko8QI",
        "outputId": "dc659c26-8cf5-4d97-f96a-d4d7ac6ba219"
      },
      "execution_count": null,
      "outputs": [
        {
          "output_type": "stream",
          "name": "stdout",
          "text": [
            "Digiteun número entero positivo (Sugeriblemente uno de mas de 2 cifras): 10\n",
            "La suma de los dígitos del número es: 1\n"
          ]
        }
      ]
    }
  ]
}